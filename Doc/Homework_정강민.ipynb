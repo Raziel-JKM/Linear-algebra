{
  "nbformat": 4,
  "nbformat_minor": 0,
  "metadata": {
    "colab": {
      "name": "Homework 정강민.ipynb",
      "provenance": [],
      "authorship_tag": "ABX9TyM+kZRjcRrsp9qF7DsyQQin",
      "include_colab_link": true
    },
    "kernelspec": {
      "name": "python3",
      "display_name": "Python 3"
    },
    "language_info": {
      "name": "python"
    }
  },
  "cells": [
    {
      "cell_type": "markdown",
      "metadata": {
        "id": "view-in-github",
        "colab_type": "text"
      },
      "source": [
        "<a href=\"https://colab.research.google.com/github/Raziel-JKM/Linear-algebra/blob/main/Doc/Homework_%EC%A0%95%EA%B0%95%EB%AF%BC.ipynb\" target=\"_parent\"><img src=\"https://colab.research.google.com/assets/colab-badge.svg\" alt=\"Open In Colab\"/></a>"
      ]
    },
    {
      "cell_type": "code",
      "metadata": {
        "colab": {
          "base_uri": "https://localhost:8080/",
          "height": 35
        },
        "id": "esY1heQVaEJu",
        "outputId": "10c69c2a-6387-4c69-c011-64089d1c3d90"
      },
      "source": [
        "import numpy as np\n",
        "\n",
        "# 1. 다음과 같은 행렬을 만드세요\n",
        "'''\n",
        "10 20 30 40\n",
        "50 60 70 80\n",
        "'''"
      ],
      "execution_count": 2,
      "outputs": [
        {
          "output_type": "execute_result",
          "data": {
            "application/vnd.google.colaboratory.intrinsic+json": {
              "type": "string"
            },
            "text/plain": [
              "'\\n10 20 30 40\\n50 60 70 80\\n'"
            ]
          },
          "metadata": {},
          "execution_count": 2
        }
      ]
    },
    {
      "cell_type": "code",
      "metadata": {
        "colab": {
          "base_uri": "https://localhost:8080/"
        },
        "id": "wXnBNNp_aS1j",
        "outputId": "a3ce03c4-0434-468d-d84d-d612c5cb4870"
      },
      "source": [
        "n = np.array([[10,20,30,40],[50,60,70,80]])\n",
        "print(n)"
      ],
      "execution_count": 3,
      "outputs": [
        {
          "output_type": "stream",
          "name": "stdout",
          "text": [
            "[[10 20 30 40]\n",
            " [50 60 70 80]]\n"
          ]
        }
      ]
    },
    {
      "cell_type": "code",
      "metadata": {
        "colab": {
          "base_uri": "https://localhost:8080/",
          "height": 52
        },
        "id": "X8ytzuERaHac",
        "outputId": "06fb6721-baea-4f2f-c475-cfb9736dc358"
      },
      "source": [
        "# 2. 다음 행렬에서 코드를 작성해주세요\n",
        "\n",
        "m = np.array([[ 0,  1,  2,  3,  4],\n",
        "            [ 5,  6,  7,  8,  9],\n",
        "            [10, 11, 12, 13, 14]])\n",
        "\n",
        "'''\n",
        "1. 이 행렬에서 값 7 을 인덱싱한다.\n",
        "\n",
        "2. 이 행렬에서 값 14 을 인덱싱한다.\n",
        "\n",
        "3. 이 행렬에서 배열 [6, 7] 을 슬라이싱한다.\n",
        "\n",
        "4. 이 행렬에서 배열 [7, 12] 을 슬라이싱한다.\n",
        "\n",
        "5. 이 행렬에서 배열 [[3, 4], [8, 9]] 을 슬라이싱한다.\n",
        "'''"
      ],
      "execution_count": 4,
      "outputs": [
        {
          "output_type": "execute_result",
          "data": {
            "application/vnd.google.colaboratory.intrinsic+json": {
              "type": "string"
            },
            "text/plain": [
              "'\\n1. 이 행렬에서 값 7 을 인덱싱한다.\\n\\n2. 이 행렬에서 값 14 을 인덱싱한다.\\n\\n3. 이 행렬에서 배열 [6, 7] 을 슬라이싱한다.\\n\\n4. 이 행렬에서 배열 [7, 12] 을 슬라이싱한다.\\n\\n5. 이 행렬에서 배열 [[3, 4], [8, 9]] 을 슬라이싱한다.\\n'"
            ]
          },
          "metadata": {},
          "execution_count": 4
        }
      ]
    },
    {
      "cell_type": "code",
      "metadata": {
        "colab": {
          "base_uri": "https://localhost:8080/"
        },
        "id": "BdOBzYl3a5uh",
        "outputId": "492ad286-52e4-4432-cb3d-db894a61c471"
      },
      "source": [
        "m1 = m[1,2]\n",
        "\n",
        "print(m1)"
      ],
      "execution_count": 5,
      "outputs": [
        {
          "output_type": "stream",
          "name": "stdout",
          "text": [
            "7\n"
          ]
        }
      ]
    },
    {
      "cell_type": "code",
      "metadata": {
        "colab": {
          "base_uri": "https://localhost:8080/"
        },
        "id": "fL8BQWQ8BKj7",
        "outputId": "3ee42b89-1e52-4297-b0b1-66b23048da74"
      },
      "source": [
        "m1 = m[2,4]\n",
        "\n",
        "print(m1)"
      ],
      "execution_count": 6,
      "outputs": [
        {
          "output_type": "stream",
          "name": "stdout",
          "text": [
            "14\n"
          ]
        }
      ]
    },
    {
      "cell_type": "code",
      "metadata": {
        "colab": {
          "base_uri": "https://localhost:8080/"
        },
        "id": "H85U3XrmBR5Z",
        "outputId": "41bf48a2-6094-4a02-afa7-6bad98d5c9b4"
      },
      "source": [
        "m1 = m[1,4]\n",
        "\n",
        "print(m1)"
      ],
      "execution_count": 9,
      "outputs": [
        {
          "output_type": "stream",
          "name": "stdout",
          "text": [
            "9\n"
          ]
        }
      ]
    },
    {
      "cell_type": "code",
      "metadata": {
        "colab": {
          "base_uri": "https://localhost:8080/"
        },
        "id": "4kRITrZ7BvaQ",
        "outputId": "7c3e7d69-237f-4cdf-c367-1d777b2cee3d"
      },
      "source": [
        "m1 = m[1:,2]\n",
        "\n",
        "print(m1)"
      ],
      "execution_count": 8,
      "outputs": [
        {
          "output_type": "stream",
          "name": "stdout",
          "text": [
            "[ 7 12]\n"
          ]
        }
      ]
    },
    {
      "cell_type": "code",
      "metadata": {
        "colab": {
          "base_uri": "https://localhost:8080/"
        },
        "id": "Xh7VPKTqCfOq",
        "outputId": "7c9dfcdc-6ac0-4268-a720-789f53ffab80"
      },
      "source": [
        "m1 = [m[1,2]&m[1,3]]\n",
        "\n",
        "print(m1)"
      ],
      "execution_count": 20,
      "outputs": [
        {
          "output_type": "stream",
          "name": "stdout",
          "text": [
            "[0]\n"
          ]
        }
      ]
    },
    {
      "cell_type": "code",
      "metadata": {
        "colab": {
          "base_uri": "https://localhost:8080/"
        },
        "id": "GdY0AQkHCA0N",
        "outputId": "37803d39-d57c-4b5a-9aaf-86e150b24ddb"
      },
      "source": [
        "m1 = m[:2,3:]\n",
        "\n",
        "print(m1)"
      ],
      "execution_count": 16,
      "outputs": [
        {
          "output_type": "stream",
          "name": "stdout",
          "text": [
            "[[3 4]\n",
            " [8 9]]\n"
          ]
        }
      ]
    },
    {
      "cell_type": "code",
      "metadata": {
        "id": "yT85AXWWaDRr"
      },
      "source": [
        "# 3. 벡터 [3, 10]의 단위벡터를 구하세요"
      ],
      "execution_count": null,
      "outputs": []
    },
    {
      "cell_type": "code",
      "metadata": {
        "colab": {
          "base_uri": "https://localhost:8080/"
        },
        "id": "2DdUphBhDGmM",
        "outputId": "54b1967e-1cd6-4a1f-f6a7-96d93d88c839"
      },
      "source": [
        "import numpy as np\n",
        "\n",
        "vector=np.array([3,10])\n",
        "\n",
        "unit_vector = vector / np.linalg.norm(vector)\n",
        "print(unit_vector)"
      ],
      "execution_count": 21,
      "outputs": [
        {
          "output_type": "stream",
          "name": "stdout",
          "text": [
            "[0.28734789 0.95782629]\n"
          ]
        }
      ]
    }
  ]
}