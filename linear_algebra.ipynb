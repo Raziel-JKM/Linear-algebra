{
  "nbformat": 4,
  "nbformat_minor": 0,
  "metadata": {
    "colab": {
      "name": " linear-algebra.ipynb",
      "provenance": [],
      "authorship_tag": "ABX9TyMxIGCJN+tKEAKfUDluzbEn",
      "include_colab_link": true
    },
    "kernelspec": {
      "name": "python3",
      "display_name": "Python 3"
    },
    "language_info": {
      "name": "python"
    }
  },
  "cells": [
    {
      "cell_type": "markdown",
      "metadata": {
        "id": "view-in-github",
        "colab_type": "text"
      },
      "source": [
        "<a href=\"https://colab.research.google.com/github/Raziel-JKM/linear-algebra/blob/main/linear_algebra.ipynb\" target=\"_parent\"><img src=\"https://colab.research.google.com/assets/colab-badge.svg\" alt=\"Open In Colab\"/></a>"
      ]
    },
    {
      "cell_type": "code",
      "metadata": {
        "id": "YulFVsO_Pg6E"
      },
      "source": [
        "import numpy as np\n",
        "import scipy.linalg as linalg\n",
        "\n",
        "A = np.array([[1,2,-1],\n",
        "              [2,7,4],\n",
        "              [0,4,-1]])\n",
        "\n",
        "b = np.array([1,0,1.2])\n",
        "\n",
        "# matrix-vector multiplication\n",
        "y1 = np.matmul(A,b)\n",
        "y2 = np.dot(A,b)\n",
        "y3 = A.dot(b)\n",
        "\n",
        "# matrix-matrix multiplication\n",
        "B = np.array([[1,2,3,4],\n",
        "              [-1,2,3,1],\n",
        "              [3,-2,5,9]])\n",
        "\n",
        "C1 = np.matmul(A,B)\n",
        "C2 = np.dot(A,B)\n",
        "C3 = A.dot(B)"
      ],
      "execution_count": 1,
      "outputs": []
    },
    {
      "cell_type": "markdown",
      "metadata": {
        "id": "fxopE4T3QGp-"
      },
      "source": [
        "determinant, solve, inverse"
      ]
    },
    {
      "cell_type": "code",
      "metadata": {
        "id": "fz3xsqL4PuDM"
      },
      "source": [
        "# determinant\n",
        "det = linalg.det(A)\n",
        "\n",
        "# solve\n",
        "x = linalg.solve(A,b)\n",
        "r = A.dot(x) - b   # check 0 vector\n",
        "\n",
        "# inverse\n",
        "Ainv = linalg.inv(A)\n"
      ],
      "execution_count": 2,
      "outputs": []
    },
    {
      "cell_type": "markdown",
      "metadata": {
        "id": "b_AEzm9XQEqN"
      },
      "source": [
        "Norm"
      ]
    },
    {
      "cell_type": "code",
      "metadata": {
        "id": "V2q7GSkVPw-4"
      },
      "source": [
        "# vector norm\n",
        "\n",
        "norm1 = linalg.norm(x,1)          # L1 norm   == sum(np.abs(x))\n",
        "norm2 = linalg.norm(x)            # L2 norm   == np.sqrt(sum(x*x))\n",
        "# normp = linalg.norm(x,p)          # p norm\n",
        "normMax = linalg.norm(x,np.inf)   # max norm  == np.max(abs(x))\n",
        "\n",
        "\n",
        "# matrix norm\n"
      ],
      "execution_count": null,
      "outputs": []
    },
    {
      "cell_type": "markdown",
      "metadata": {
        "id": "BnQ3BVzqP9-c"
      },
      "source": [
        "LLS(Linear Least Square)"
      ]
    },
    {
      "cell_type": "code",
      "metadata": {
        "id": "x3ZsH0Z0P1Hc"
      },
      "source": [
        "# least-square\n",
        "import numpy as np\n",
        "from scipy import linalg\n",
        "import matplotlib.pyplot as plt\n",
        "\n",
        "c1, c2 = 5.0, 2.0\n",
        "x = np.linspace(0.1,1,100)\n",
        "y = c1*np.exp(-x) + c2*x\n",
        "z = y + 0.05 * np.max(y) * np.random.randn(len(y))\n",
        "A = np.vstack((np.exp(-x),x)).T\n",
        "\n",
        "c,resid,rank,sigma = linalg.lstsq(A,z)\n",
        "x2 = np.linspace(0.1,1,100)\n",
        "y2 = c[0]*np.exp(-x2) + c[1]*x2\n",
        "\n",
        "plt.plot(x,z,'x',x2,y2)\n",
        "plt.axis([0,1.1,3.0,5.5])\n",
        "plt.xlabel('$x$')\n",
        "plt.title('Data fitting with linalg.lstsq')\n",
        "plt.show()\n"
      ],
      "execution_count": null,
      "outputs": []
    },
    {
      "cell_type": "markdown",
      "metadata": {
        "id": "IUzbTHR9P7Gk"
      },
      "source": [
        "고유치문제"
      ]
    },
    {
      "cell_type": "code",
      "metadata": {
        "id": "2gzs6IIqP3vP"
      },
      "source": [
        "\n",
        "# eigen\n",
        "D,V = linalg.eigh(A)   # for real sym or complex hermitian\n",
        "D,V = linalg.eig(A)   "
      ],
      "execution_count": null,
      "outputs": []
    }
  ]
}